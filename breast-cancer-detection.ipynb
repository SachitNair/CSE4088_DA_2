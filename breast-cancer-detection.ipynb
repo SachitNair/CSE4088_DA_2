{
 "cells": [
  {
   "cell_type": "code",
   "execution_count": 1,
   "id": "2a0aea1b",
   "metadata": {
    "_cell_guid": "b1076dfc-b9ad-4769-8c92-a6c4dae69d19",
    "_uuid": "8f2839f25d086af736a60e9eeb907d3b93b6e0e5",
    "execution": {
     "iopub.execute_input": "2023-04-10T05:05:01.667382Z",
     "iopub.status.busy": "2023-04-10T05:05:01.666908Z",
     "iopub.status.idle": "2023-04-10T05:05:22.139729Z",
     "shell.execute_reply": "2023-04-10T05:05:22.138319Z"
    },
    "papermill": {
     "duration": 20.483225,
     "end_time": "2023-04-10T05:05:22.142734",
     "exception": false,
     "start_time": "2023-04-10T05:05:01.659509",
     "status": "completed"
    },
    "tags": []
   },
   "outputs": [
    {
     "name": "stdout",
     "output_type": "stream",
     "text": [
      "Processing /kaggle/input/rsnamodules/dicomsdl-0.109.1-cp37-cp37m-manylinux_2_12_x86_64.manylinux2010_x86_64.whl\r\n",
      "Installing collected packages: dicomsdl\r\n",
      "Successfully installed dicomsdl-0.109.1\r\n",
      "\u001b[33mWARNING: Running pip as the 'root' user can result in broken permissions and conflicting behaviour with the system package manager. It is recommended to use a virtual environment instead: https://pip.pypa.io/warnings/venv\u001b[0m\u001b[33m\r\n",
      "\u001b[0mProcessing /kaggle/input/rsna-2022-whl/pylibjpeg-1.4.0-py3-none-any.whl\r\n",
      "Processing /kaggle/input/rsna-2022-whl/python_gdcm-3.0.15-cp37-cp37m-manylinux_2_17_x86_64.manylinux2014_x86_64.whl\r\n",
      "Requirement already satisfied: numpy in /opt/conda/lib/python3.7/site-packages (from pylibjpeg==1.4.0) (1.21.6)\r\n",
      "Installing collected packages: python-gdcm, pylibjpeg\r\n",
      "Successfully installed pylibjpeg-1.4.0 python-gdcm-3.0.15\r\n",
      "\u001b[33mWARNING: Running pip as the 'root' user can result in broken permissions and conflicting behaviour with the system package manager. It is recommended to use a virtual environment instead: https://pip.pypa.io/warnings/venv\u001b[0m\u001b[33m\r\n",
      "\u001b[0m"
     ]
    }
   ],
   "source": [
    "# %%capture\n",
    "# Source: https://www.kaggle.com/code/remekkinas/fast-dicom-processing-1-6-2x-faster?scriptVersionId=113360473\n",
    "!pip install /kaggle/input/rsnamodules/dicomsdl-0.109.1-cp37-cp37m-manylinux_2_12_x86_64.manylinux2010_x86_64.whl \n",
    "\n",
    "try:\n",
    "    import pylibjpeg\n",
    "except:\n",
    "   !pip install /kaggle/input/rsna-2022-whl/{pylibjpeg-1.4.0-py3-none-any.whl,python_gdcm-3.0.15-cp37-cp37m-manylinux_2_17_x86_64.manylinux2014_x86_64.whl}"
   ]
  },
  {
   "cell_type": "code",
   "execution_count": 2,
   "id": "7980cb8a",
   "metadata": {
    "execution": {
     "iopub.execute_input": "2023-04-10T05:05:22.154395Z",
     "iopub.status.busy": "2023-04-10T05:05:22.154076Z",
     "iopub.status.idle": "2023-04-10T05:05:24.200273Z",
     "shell.execute_reply": "2023-04-10T05:05:24.199063Z"
    },
    "papermill": {
     "duration": 2.05513,
     "end_time": "2023-04-10T05:05:24.203078",
     "exception": false,
     "start_time": "2023-04-10T05:05:22.147948",
     "status": "completed"
    },
    "tags": []
   },
   "outputs": [
    {
     "name": "stdout",
     "output_type": "stream",
     "text": [
      "Processing /kaggle/input/kerasefficientnetv2/keras_efficientnet_v2-1.2.2-py3-none-any.whl\r\n",
      "Installing collected packages: keras-efficientnet-v2\r\n",
      "Successfully installed keras-efficientnet-v2-1.2.2\r\n",
      "\u001b[33mWARNING: Running pip as the 'root' user can result in broken permissions and conflicting behaviour with the system package manager. It is recommended to use a virtual environment instead: https://pip.pypa.io/warnings/venv\u001b[0m\u001b[33m\r\n",
      "\u001b[0m"
     ]
    }
   ],
   "source": [
    "# Install Tensorflow Keras EfficientNetV2\n",
    "!pip install --no-deps  /kaggle/input/kerasefficientnetv2/keras_efficientnet_v2-1.2.2-py3-none-any.whl"
   ]
  },
  {
   "cell_type": "code",
   "execution_count": 3,
   "id": "ac3fcaac",
   "metadata": {
    "execution": {
     "iopub.execute_input": "2023-04-10T05:05:24.214724Z",
     "iopub.status.busy": "2023-04-10T05:05:24.214393Z",
     "iopub.status.idle": "2023-04-10T05:05:31.576070Z",
     "shell.execute_reply": "2023-04-10T05:05:31.574988Z"
    },
    "papermill": {
     "duration": 7.370392,
     "end_time": "2023-04-10T05:05:31.578710",
     "exception": false,
     "start_time": "2023-04-10T05:05:24.208318",
     "status": "completed"
    },
    "tags": []
   },
   "outputs": [],
   "source": [
    "import numpy as np\n",
    "import pandas as pd\n",
    "import pylibjpeg\n",
    "import pydicom\n",
    "import matplotlib as mpl\n",
    "import matplotlib.pyplot as plt\n",
    "import tensorflow as tf\n",
    "import dicomsdl as dicoml\n",
    "import pydicom\n",
    "\n",
    "from joblib import Parallel, delayed\n",
    "from tqdm.notebook import tqdm\n",
    "from multiprocessing import cpu_count\n",
    "\n",
    "import keras_efficientnet_v2\n",
    "import cv2\n",
    "import glob\n",
    "import importlib\n",
    "import os\n",
    "import joblib\n",
    "import time\n",
    "\n",
    "# Tensorflow and CV2 set number of threads to 1 for speedup in parallell function mapping\n",
    "tf.config.threading.set_inter_op_parallelism_threads(num_threads=1)\n",
    "cv2.setNumThreads(1)\n",
    "\n",
    "# Pandas DataFrame Display Options\n",
    "pd.options.display.max_colwidth = 99"
   ]
  },
  {
   "cell_type": "code",
   "execution_count": 4,
   "id": "7856a47c",
   "metadata": {
    "execution": {
     "iopub.execute_input": "2023-04-10T05:05:31.590409Z",
     "iopub.status.busy": "2023-04-10T05:05:31.589827Z",
     "iopub.status.idle": "2023-04-10T05:05:31.598147Z",
     "shell.execute_reply": "2023-04-10T05:05:31.597259Z"
    },
    "papermill": {
     "duration": 0.016416,
     "end_time": "2023-04-10T05:05:31.600242",
     "exception": false,
     "start_time": "2023-04-10T05:05:31.583826",
     "status": "completed"
    },
    "tags": []
   },
   "outputs": [],
   "source": [
    "IS_INTERACTIVE = os.environ['KAGGLE_KERNEL_RUN_TYPE'] == 'Interactive'\n",
    "\n",
    "TARGET_HEIGHT = 1344\n",
    "TARGET_WIDTH = 768\n",
    "N_CHANNELS = 1\n",
    "INPUT_SHAPE = (TARGET_HEIGHT, TARGET_WIDTH, N_CHANNELS)\n",
    "TARGET_HEIGHT_WIDTH_RATIO = TARGET_HEIGHT / TARGET_WIDTH\n",
    "THRESHOLD_BEST = 0.5\n",
    "CLAHE = cv2.createCLAHE(clipLimit=2.0, tileGridSize=(32, 32))"
   ]
  },
  {
   "cell_type": "code",
   "execution_count": 5,
   "id": "4db83eab",
   "metadata": {
    "execution": {
     "iopub.execute_input": "2023-04-10T05:05:31.611106Z",
     "iopub.status.busy": "2023-04-10T05:05:31.610828Z",
     "iopub.status.idle": "2023-04-10T05:05:31.622303Z",
     "shell.execute_reply": "2023-04-10T05:05:31.621263Z"
    },
    "papermill": {
     "duration": 0.019682,
     "end_time": "2023-04-10T05:05:31.624701",
     "exception": false,
     "start_time": "2023-04-10T05:05:31.605019",
     "status": "completed"
    },
    "tags": []
   },
   "outputs": [],
   "source": [
    "def smooth(l):\n",
    "    kernel_size = int(len(l) * 0.01)\n",
    "    kernel = np.ones(kernel_size) / kernel_size\n",
    "    return np.convolve(l, kernel, mode='same')\n",
    "\n",
    "def get_x_offset(image, max_col_sum_ratio_threshold=0.05):\n",
    "    margin = 0\n",
    "    sums = smooth(image.sum(axis=0).squeeze())\n",
    "    sums_argmax = sums[:int(image.shape[1] * 0.75)].argmax()\n",
    "    sums_threshold = sums.max() * max_col_sum_ratio_threshold\n",
    "    first_non_zoro_column_found = False\n",
    "    \n",
    "    for offset, s in enumerate(sums):\n",
    "        if s < sums_threshold and first_non_zoro_column_found:\n",
    "            return min(image.shape[1], offset + margin)\n",
    "        elif s > sums_threshold and offset > sums_argmax:\n",
    "            first_non_zoro_column_found = True\n",
    "        \n",
    "    return offset\n",
    "\n",
    "def get_y_offsets(image, max_row_sum_ratio_threshold=0.10):\n",
    "    margin = 0\n",
    "    sums = smooth(image.sum(axis=1).squeeze())\n",
    "    sums_argmax = int(image.shape[0] * 0.25) + sums[int(image.shape[0] * 0.25):int(image.shape[0] * 0.75)].argmax()\n",
    "    sum_threshold = sums.max() * max_row_sum_ratio_threshold\n",
    "    offset_bottom = 0\n",
    "    offset_top = image.shape[0]\n",
    "    offset_top_set = False\n",
    "\n",
    "    # Bottom offset\n",
    "    for offset, s in enumerate(sums):\n",
    "        if s < sum_threshold and not offset_top_set:\n",
    "            offset_bottom += 1\n",
    "        else:\n",
    "            break\n",
    "            \n",
    "    for offset, s in enumerate(reversed(sums)):\n",
    "        if s > sum_threshold and not offset_top_set:\n",
    "            offset_top = image.shape[0] - (offset + 1)\n",
    "            break\n",
    "            \n",
    "    return max(0, offset_bottom - margin), min(image.shape[0], offset_top + margin)\n",
    "\n",
    "def crop(image, debug=False):\n",
    "    x_offset = get_x_offset(image)\n",
    "    offset_bottom, offset_top = get_y_offsets(image[:,:x_offset])\n",
    "    \n",
    "    image = image[offset_bottom:offset_top:,:x_offset]\n",
    "        \n",
    "    return image"
   ]
  },
  {
   "cell_type": "code",
   "execution_count": 6,
   "id": "e4f26a10",
   "metadata": {
    "execution": {
     "iopub.execute_input": "2023-04-10T05:05:31.635494Z",
     "iopub.status.busy": "2023-04-10T05:05:31.635225Z",
     "iopub.status.idle": "2023-04-10T05:05:31.645809Z",
     "shell.execute_reply": "2023-04-10T05:05:31.644733Z"
    },
    "papermill": {
     "duration": 0.018746,
     "end_time": "2023-04-10T05:05:31.648350",
     "exception": false,
     "start_time": "2023-04-10T05:05:31.629604",
     "status": "completed"
    },
    "tags": []
   },
   "outputs": [],
   "source": [
    "def process(file_path, size=None, crop_image=False, apply_clahe=False, debug=False, save=False):\n",
    "    # Read Dicom File\n",
    "    dicom = pydicom.dcmread(file_path)\n",
    "    image = dicom.pixel_array\n",
    "\n",
    "    # Normalize [0,1] range\n",
    "    image = (image - image.min()) / (image.max() - image.min())\n",
    "\n",
    "    if dicom.PhotometricInterpretation == \"MONOCHROME1\":  \n",
    "        image = 1 - image\n",
    "\n",
    "    # Convert to uint8 image in range [0, 255]\n",
    "    image = (image * 255).astype(np.uint8)\n",
    "    \n",
    "    # Flip T0 Left/Right Orientation\n",
    "    h0, w0 = image.shape\n",
    "    if image[:,int(-w0 * 0.10):].sum() > image[:,:int(w0 * 0.10)].sum():\n",
    "        image = np.flip(image, axis=1)\n",
    "    \n",
    "    # Save original image\n",
    "    if debug:\n",
    "        image0 = np.copy(image)\n",
    "    \n",
    "    # Always crop 10 pixels for weird border noise/lines\n",
    "    image = image[int(h0 * 2e-2):-int(h0 * 2e-2),int(w0 * 2e-2):-int(w0 * 2e-2)]\n",
    "    \n",
    "    if crop_image:\n",
    "        image = crop(image, debug=debug)\n",
    "        \n",
    "    # Resize\n",
    "    if size is not None:\n",
    "        # Pad black pixels to make square image\n",
    "        h, w = image.shape\n",
    "        if (h / w) > TARGET_HEIGHT_WIDTH_RATIO:\n",
    "            pad = int(h / TARGET_HEIGHT_WIDTH_RATIO - w)\n",
    "            image = np.pad(image, [[0,0], [0, pad]])\n",
    "            h, w = image.shape\n",
    "        else:\n",
    "            pad = int(0.50 * (w * TARGET_HEIGHT_WIDTH_RATIO - h))\n",
    "            image = np.pad(image, [[pad, pad], [0,0]])\n",
    "            h, w = image.shape\n",
    "        # Resize\n",
    "        image = cv2.resize(image, size, interpolation=cv2.INTER_AREA)\n",
    "        \n",
    "    # Apply CLAHE contrast enhancement\n",
    "    if apply_clahe:\n",
    "        image = CLAHE.apply(image)\n",
    "        \n",
    "    # Save Only\n",
    "    if save:\n",
    "        image_id = file_path.split('/')[-1].split('.')[0]\n",
    "        cv2.imwrite(f'{image_id}.png', image)"
   ]
  },
  {
   "cell_type": "code",
   "execution_count": 7,
   "id": "4a437fc9",
   "metadata": {
    "execution": {
     "iopub.execute_input": "2023-04-10T05:05:31.660330Z",
     "iopub.status.busy": "2023-04-10T05:05:31.658838Z",
     "iopub.status.idle": "2023-04-10T05:05:31.664491Z",
     "shell.execute_reply": "2023-04-10T05:05:31.663510Z"
    },
    "papermill": {
     "duration": 0.013348,
     "end_time": "2023-04-10T05:05:31.666631",
     "exception": false,
     "start_time": "2023-04-10T05:05:31.653283",
     "status": "completed"
    },
    "tags": []
   },
   "outputs": [],
   "source": [
    "def normalize(image):\n",
    "    image = tf.repeat(image, repeats=3, axis=3)\n",
    "    image = tf.cast(image, tf.float32)\n",
    "    image = tf.keras.applications.imagenet_utils.preprocess_input(image, mode='torch')\n",
    "\n",
    "    return image"
   ]
  },
  {
   "cell_type": "code",
   "execution_count": 8,
   "id": "6797b14b",
   "metadata": {
    "execution": {
     "iopub.execute_input": "2023-04-10T05:05:31.677771Z",
     "iopub.status.busy": "2023-04-10T05:05:31.677002Z",
     "iopub.status.idle": "2023-04-10T05:05:31.683591Z",
     "shell.execute_reply": "2023-04-10T05:05:31.682716Z"
    },
    "papermill": {
     "duration": 0.014212,
     "end_time": "2023-04-10T05:05:31.685545",
     "exception": false,
     "start_time": "2023-04-10T05:05:31.671333",
     "status": "completed"
    },
    "tags": []
   },
   "outputs": [],
   "source": [
    "def get_model():\n",
    "    # Inputs, note the names are equal to the dictionary keys in the dataset\n",
    "    image = tf.keras.layers.Input(INPUT_SHAPE, name='image', dtype=tf.uint8)\n",
    "\n",
    "    # Normalize Input\n",
    "    image_norm = normalize(image)\n",
    "\n",
    "    # CNN Prediction\n",
    "    outputs = keras_efficientnet_v2.EfficientNetV2T(\n",
    "        input_shape=[TARGET_HEIGHT, TARGET_WIDTH, 3],\n",
    "        pretrained=None,\n",
    "        num_classes=1,\n",
    "        classifier_activation='sigmoid',\n",
    "        dropout=0.30,\n",
    "    )(image_norm)\n",
    "\n",
    "    model = tf.keras.models.Model(inputs=image, outputs=outputs)\n",
    "\n",
    "    #model.load_weights('/kaggle/input/rsna-efficientnetv2-training-tensorflow-tpu-ds/model.h5')\n",
    "    \n",
    "    #model.load_weights('/kaggle/input/my-rsna-effnetv2t-model/model.h5')\n",
    "    \n",
    "    #model.load_weights('/kaggle/input/my-tuned-rsna-effnetv2t/model.h5')\n",
    "    \n",
    "    model.load_weights('/kaggle/input/my-balanced-rsna-effnetv2t-wts/model.h5')\n",
    "\n",
    "    model.trainable = False\n",
    "\n",
    "    model.compile()\n",
    "\n",
    "    return model"
   ]
  },
  {
   "cell_type": "code",
   "execution_count": 9,
   "id": "db8a2632",
   "metadata": {
    "execution": {
     "iopub.execute_input": "2023-04-10T05:05:31.696624Z",
     "iopub.status.busy": "2023-04-10T05:05:31.695834Z",
     "iopub.status.idle": "2023-04-10T05:05:40.033143Z",
     "shell.execute_reply": "2023-04-10T05:05:40.032108Z"
    },
    "papermill": {
     "duration": 8.345744,
     "end_time": "2023-04-10T05:05:40.036003",
     "exception": false,
     "start_time": "2023-04-10T05:05:31.690259",
     "status": "completed"
    },
    "tags": []
   },
   "outputs": [
    {
     "name": "stderr",
     "output_type": "stream",
     "text": [
      "/opt/conda/lib/python3.7/site-packages/keras/initializers/initializers_v2.py:121: UserWarning: The initializer VarianceScaling is unseeded and being called multiple times, which will return identical values  each time (even if the initializer is unseeded). Please update your code to provide a seed to the initializer, or avoid using the same initalizer instance more than once.\n",
      "  f\"The initializer {self.__class__.__name__} is unseeded \"\n"
     ]
    },
    {
     "name": "stdout",
     "output_type": "stream",
     "text": [
      ">>>> No pretrained available, model will be randomly initialized\n"
     ]
    }
   ],
   "source": [
    "# Pretrained File Path: '/kaggle/input/sartorius-training-dataset/model.h5'\n",
    "tf.keras.backend.clear_session()\n",
    "# enable XLA optmizations\n",
    "tf.config.optimizer.set_jit(True)\n",
    "\n",
    "model = get_model()"
   ]
  },
  {
   "cell_type": "code",
   "execution_count": 10,
   "id": "51e3b674",
   "metadata": {
    "execution": {
     "iopub.execute_input": "2023-04-10T05:05:40.049073Z",
     "iopub.status.busy": "2023-04-10T05:05:40.048768Z",
     "iopub.status.idle": "2023-04-10T05:05:40.110842Z",
     "shell.execute_reply": "2023-04-10T05:05:40.109565Z"
    },
    "papermill": {
     "duration": 0.072868,
     "end_time": "2023-04-10T05:05:40.115363",
     "exception": false,
     "start_time": "2023-04-10T05:05:40.042495",
     "status": "completed"
    },
    "tags": []
   },
   "outputs": [
    {
     "name": "stdout",
     "output_type": "stream",
     "text": [
      "Model: \"model\"\n",
      "_________________________________________________________________\n",
      " Layer (type)                Output Shape              Param #   \n",
      "=================================================================\n",
      " image (InputLayer)          [(None, 1344, 768, 1)]    0         \n",
      "                                                                 \n",
      " tf.repeat (TFOpLambda)      (None, 1344, 768, 3)      0         \n",
      "                                                                 \n",
      " tf.cast (TFOpLambda)        (None, 1344, 768, 3)      0         \n",
      "                                                                 \n",
      " tf.math.truediv (TFOpLambda  (None, 1344, 768, 3)     0         \n",
      " )                                                               \n",
      "                                                                 \n",
      " tf.nn.bias_add (TFOpLambda)  (None, 1344, 768, 3)     0         \n",
      "                                                                 \n",
      " tf.math.truediv_1 (TFOpLamb  (None, 1344, 768, 3)     0         \n",
      " da)                                                             \n",
      "                                                                 \n",
      " EfficientNetV2T (Functional  (None, 1)                12744437  \n",
      " )                                                               \n",
      "                                                                 \n",
      "=================================================================\n",
      "Total params: 12,744,437\n",
      "Trainable params: 0\n",
      "Non-trainable params: 12,744,437\n",
      "_________________________________________________________________\n"
     ]
    }
   ],
   "source": [
    "# Plot model summary\n",
    "model.summary()"
   ]
  },
  {
   "cell_type": "code",
   "execution_count": 11,
   "id": "4398a8c5",
   "metadata": {
    "execution": {
     "iopub.execute_input": "2023-04-10T05:05:40.129636Z",
     "iopub.status.busy": "2023-04-10T05:05:40.128879Z",
     "iopub.status.idle": "2023-04-10T05:05:40.133449Z",
     "shell.execute_reply": "2023-04-10T05:05:40.132520Z"
    },
    "papermill": {
     "duration": 0.013974,
     "end_time": "2023-04-10T05:05:40.135578",
     "exception": false,
     "start_time": "2023-04-10T05:05:40.121604",
     "status": "completed"
    },
    "tags": []
   },
   "outputs": [],
   "source": [
    "# Model is not trainable\n",
    "# model.fit()"
   ]
  },
  {
   "cell_type": "code",
   "execution_count": 12,
   "id": "ff70fe82",
   "metadata": {
    "execution": {
     "iopub.execute_input": "2023-04-10T05:05:40.149682Z",
     "iopub.status.busy": "2023-04-10T05:05:40.148870Z",
     "iopub.status.idle": "2023-04-10T05:05:40.198253Z",
     "shell.execute_reply": "2023-04-10T05:05:40.197214Z"
    },
    "papermill": {
     "duration": 0.058923,
     "end_time": "2023-04-10T05:05:40.200688",
     "exception": false,
     "start_time": "2023-04-10T05:05:40.141765",
     "status": "completed"
    },
    "tags": []
   },
   "outputs": [
    {
     "name": "stdout",
     "output_type": "stream",
     "text": [
      "<class 'pandas.core.frame.DataFrame'>\n",
      "RangeIndex: 4 entries, 0 to 3\n",
      "Data columns (total 10 columns):\n",
      " #   Column         Non-Null Count  Dtype \n",
      "---  ------         --------------  ----- \n",
      " 0   site_id        4 non-null      int64 \n",
      " 1   patient_id     4 non-null      int64 \n",
      " 2   image_id       4 non-null      int64 \n",
      " 3   laterality     4 non-null      object\n",
      " 4   view           4 non-null      object\n",
      " 5   age            4 non-null      int64 \n",
      " 6   implant        4 non-null      int64 \n",
      " 7   machine_id     4 non-null      int64 \n",
      " 8   prediction_id  4 non-null      object\n",
      " 9   file_path      4 non-null      object\n",
      "dtypes: int64(6), object(4)\n",
      "memory usage: 448.0+ bytes\n"
     ]
    },
    {
     "data": {
      "text/plain": [
       "None"
      ]
     },
     "metadata": {},
     "output_type": "display_data"
    },
    {
     "data": {
      "text/html": [
       "<div>\n",
       "<style scoped>\n",
       "    .dataframe tbody tr th:only-of-type {\n",
       "        vertical-align: middle;\n",
       "    }\n",
       "\n",
       "    .dataframe tbody tr th {\n",
       "        vertical-align: top;\n",
       "    }\n",
       "\n",
       "    .dataframe thead th {\n",
       "        text-align: right;\n",
       "    }\n",
       "</style>\n",
       "<table border=\"1\" class=\"dataframe\">\n",
       "  <thead>\n",
       "    <tr style=\"text-align: right;\">\n",
       "      <th></th>\n",
       "      <th>site_id</th>\n",
       "      <th>patient_id</th>\n",
       "      <th>image_id</th>\n",
       "      <th>laterality</th>\n",
       "      <th>view</th>\n",
       "      <th>age</th>\n",
       "      <th>implant</th>\n",
       "      <th>machine_id</th>\n",
       "      <th>prediction_id</th>\n",
       "      <th>file_path</th>\n",
       "    </tr>\n",
       "  </thead>\n",
       "  <tbody>\n",
       "    <tr>\n",
       "      <th>0</th>\n",
       "      <td>2</td>\n",
       "      <td>10008</td>\n",
       "      <td>736471439</td>\n",
       "      <td>L</td>\n",
       "      <td>MLO</td>\n",
       "      <td>81</td>\n",
       "      <td>0</td>\n",
       "      <td>21</td>\n",
       "      <td>10008_L</td>\n",
       "      <td>/kaggle/input/rsna-breast-cancer-detection/test_images/10008/736471439.dcm</td>\n",
       "    </tr>\n",
       "    <tr>\n",
       "      <th>1</th>\n",
       "      <td>2</td>\n",
       "      <td>10008</td>\n",
       "      <td>1591370361</td>\n",
       "      <td>L</td>\n",
       "      <td>CC</td>\n",
       "      <td>81</td>\n",
       "      <td>0</td>\n",
       "      <td>21</td>\n",
       "      <td>10008_L</td>\n",
       "      <td>/kaggle/input/rsna-breast-cancer-detection/test_images/10008/1591370361.dcm</td>\n",
       "    </tr>\n",
       "    <tr>\n",
       "      <th>2</th>\n",
       "      <td>2</td>\n",
       "      <td>10008</td>\n",
       "      <td>68070693</td>\n",
       "      <td>R</td>\n",
       "      <td>MLO</td>\n",
       "      <td>81</td>\n",
       "      <td>0</td>\n",
       "      <td>21</td>\n",
       "      <td>10008_R</td>\n",
       "      <td>/kaggle/input/rsna-breast-cancer-detection/test_images/10008/68070693.dcm</td>\n",
       "    </tr>\n",
       "    <tr>\n",
       "      <th>3</th>\n",
       "      <td>2</td>\n",
       "      <td>10008</td>\n",
       "      <td>361203119</td>\n",
       "      <td>R</td>\n",
       "      <td>CC</td>\n",
       "      <td>81</td>\n",
       "      <td>0</td>\n",
       "      <td>21</td>\n",
       "      <td>10008_R</td>\n",
       "      <td>/kaggle/input/rsna-breast-cancer-detection/test_images/10008/361203119.dcm</td>\n",
       "    </tr>\n",
       "  </tbody>\n",
       "</table>\n",
       "</div>"
      ],
      "text/plain": [
       "   site_id  patient_id    image_id laterality view  age  implant  machine_id  \\\n",
       "0        2       10008   736471439          L  MLO   81        0          21   \n",
       "1        2       10008  1591370361          L   CC   81        0          21   \n",
       "2        2       10008    68070693          R  MLO   81        0          21   \n",
       "3        2       10008   361203119          R   CC   81        0          21   \n",
       "\n",
       "  prediction_id  \\\n",
       "0       10008_L   \n",
       "1       10008_L   \n",
       "2       10008_R   \n",
       "3       10008_R   \n",
       "\n",
       "                                                                     file_path  \n",
       "0   /kaggle/input/rsna-breast-cancer-detection/test_images/10008/736471439.dcm  \n",
       "1  /kaggle/input/rsna-breast-cancer-detection/test_images/10008/1591370361.dcm  \n",
       "2    /kaggle/input/rsna-breast-cancer-detection/test_images/10008/68070693.dcm  \n",
       "3   /kaggle/input/rsna-breast-cancer-detection/test_images/10008/361203119.dcm  "
      ]
     },
     "metadata": {},
     "output_type": "display_data"
    }
   ],
   "source": [
    "test = pd.read_csv('/kaggle/input/rsna-breast-cancer-detection/test.csv')\n",
    "\n",
    "def get_file_path(args):\n",
    "    patient_id, image_id = args\n",
    "    return f'/kaggle/input/rsna-breast-cancer-detection/test_images/{patient_id}/{image_id}.dcm'\n",
    "    \n",
    "test['file_path'] = test[['patient_id', 'image_id']].apply(get_file_path, axis=1)\n",
    "\n",
    "display(test.info())\n",
    "display(test.head())"
   ]
  },
  {
   "cell_type": "code",
   "execution_count": 13,
   "id": "60059bbb",
   "metadata": {
    "execution": {
     "iopub.execute_input": "2023-04-10T05:05:40.215737Z",
     "iopub.status.busy": "2023-04-10T05:05:40.215039Z",
     "iopub.status.idle": "2023-04-10T05:05:40.237465Z",
     "shell.execute_reply": "2023-04-10T05:05:40.236504Z"
    },
    "papermill": {
     "duration": 0.032311,
     "end_time": "2023-04-10T05:05:40.239872",
     "exception": false,
     "start_time": "2023-04-10T05:05:40.207561",
     "status": "completed"
    },
    "tags": []
   },
   "outputs": [
    {
     "name": "stdout",
     "output_type": "stream",
     "text": [
      "<class 'pandas.core.frame.DataFrame'>\n",
      "RangeIndex: 2 entries, 0 to 1\n",
      "Data columns (total 2 columns):\n",
      " #   Column         Non-Null Count  Dtype  \n",
      "---  ------         --------------  -----  \n",
      " 0   prediction_id  2 non-null      object \n",
      " 1   cancer         2 non-null      float64\n",
      "dtypes: float64(1), object(1)\n",
      "memory usage: 160.0+ bytes\n"
     ]
    },
    {
     "data": {
      "text/plain": [
       "None"
      ]
     },
     "metadata": {},
     "output_type": "display_data"
    },
    {
     "data": {
      "text/html": [
       "<div>\n",
       "<style scoped>\n",
       "    .dataframe tbody tr th:only-of-type {\n",
       "        vertical-align: middle;\n",
       "    }\n",
       "\n",
       "    .dataframe tbody tr th {\n",
       "        vertical-align: top;\n",
       "    }\n",
       "\n",
       "    .dataframe thead th {\n",
       "        text-align: right;\n",
       "    }\n",
       "</style>\n",
       "<table border=\"1\" class=\"dataframe\">\n",
       "  <thead>\n",
       "    <tr style=\"text-align: right;\">\n",
       "      <th></th>\n",
       "      <th>prediction_id</th>\n",
       "      <th>cancer</th>\n",
       "    </tr>\n",
       "  </thead>\n",
       "  <tbody>\n",
       "    <tr>\n",
       "      <th>0</th>\n",
       "      <td>10008_L</td>\n",
       "      <td>0.021168</td>\n",
       "    </tr>\n",
       "    <tr>\n",
       "      <th>1</th>\n",
       "      <td>10008_R</td>\n",
       "      <td>0.021168</td>\n",
       "    </tr>\n",
       "  </tbody>\n",
       "</table>\n",
       "</div>"
      ],
      "text/plain": [
       "  prediction_id    cancer\n",
       "0       10008_L  0.021168\n",
       "1       10008_R  0.021168"
      ]
     },
     "metadata": {},
     "output_type": "display_data"
    }
   ],
   "source": [
    "sample_submission = pd.read_csv('/kaggle/input/rsna-breast-cancer-detection/sample_submission.csv')\n",
    "\n",
    "display(sample_submission.info())\n",
    "display(sample_submission.head())"
   ]
  },
  {
   "cell_type": "code",
   "execution_count": 14,
   "id": "abef63ac",
   "metadata": {
    "execution": {
     "iopub.execute_input": "2023-04-10T05:05:40.255913Z",
     "iopub.status.busy": "2023-04-10T05:05:40.255199Z",
     "iopub.status.idle": "2023-04-10T05:05:40.260581Z",
     "shell.execute_reply": "2023-04-10T05:05:40.259442Z"
    },
    "papermill": {
     "duration": 0.015633,
     "end_time": "2023-04-10T05:05:40.262743",
     "exception": false,
     "start_time": "2023-04-10T05:05:40.247110",
     "status": "completed"
    },
    "tags": []
   },
   "outputs": [],
   "source": [
    "# Preprocess a single image and saves it\n",
    "def preprocess_and_save_image(args):\n",
    "    (patient_id, laterality), g = args\n",
    "    cancer = 0.0\n",
    "    for row_idx, row in g.iterrows():\n",
    "        process(row['file_path'], size=(TARGET_WIDTH, TARGET_HEIGHT), crop_image=True, save=True)"
   ]
  },
  {
   "cell_type": "code",
   "execution_count": 15,
   "id": "075716e6",
   "metadata": {
    "execution": {
     "iopub.execute_input": "2023-04-10T05:05:40.278150Z",
     "iopub.status.busy": "2023-04-10T05:05:40.277356Z",
     "iopub.status.idle": "2023-04-10T05:05:43.102760Z",
     "shell.execute_reply": "2023-04-10T05:05:43.100872Z"
    },
    "papermill": {
     "duration": 2.835462,
     "end_time": "2023-04-10T05:05:43.105165",
     "exception": false,
     "start_time": "2023-04-10T05:05:40.269703",
     "status": "completed"
    },
    "tags": []
   },
   "outputs": [
    {
     "name": "stderr",
     "output_type": "stream",
     "text": [
      "[Parallel(n_jobs=2)]: Using backend MultiprocessingBackend with 2 concurrent workers.\n",
      "[Parallel(n_jobs=2)]: Done   2 out of   2 | elapsed:    2.5s remaining:    0.0s\n",
      "[Parallel(n_jobs=2)]: Done   2 out of   2 | elapsed:    2.5s finished\n"
     ]
    }
   ],
   "source": [
    "# Preprocess all images in parallel using Joblib\n",
    "jobs = [joblib.delayed(preprocess_and_save_image)(args) for args in test.groupby(['patient_id', 'laterality'])]\n",
    "SUBMISSION_ROWS = joblib.Parallel(\n",
    "    n_jobs=cpu_count(),\n",
    "    verbose=1,\n",
    "    backend='multiprocessing',\n",
    "    prefer='threads',\n",
    ")(jobs)"
   ]
  },
  {
   "cell_type": "code",
   "execution_count": 16,
   "id": "6dac0545",
   "metadata": {
    "execution": {
     "iopub.execute_input": "2023-04-10T05:05:43.121766Z",
     "iopub.status.busy": "2023-04-10T05:05:43.120836Z",
     "iopub.status.idle": "2023-04-10T05:05:58.535593Z",
     "shell.execute_reply": "2023-04-10T05:05:58.534621Z"
    },
    "papermill": {
     "duration": 15.425287,
     "end_time": "2023-04-10T05:05:58.537919",
     "exception": false,
     "start_time": "2023-04-10T05:05:43.112632",
     "status": "completed"
    },
    "tags": []
   },
   "outputs": [
    {
     "data": {
      "application/vnd.jupyter.widget-view+json": {
       "model_id": "5b93844a671f43a0b6d8ee23a8379dd0",
       "version_major": 2,
       "version_minor": 0
      },
      "text/plain": [
       "  0%|          | 0/2 [00:00<?, ?it/s]"
      ]
     },
     "metadata": {},
     "output_type": "display_data"
    }
   ],
   "source": [
    "SUBMISSION_ROWS = []\n",
    "\n",
    "for (patient_id, laterality), g in tqdm(test.groupby(['patient_id', 'laterality'])):\n",
    "    cancer = 0\n",
    "    for row_idx, row in g.iterrows():\n",
    "        # Load Image\n",
    "        image_id = row['image_id']\n",
    "        image = cv2.imread(f'{image_id}.png', -1)\n",
    "        # Expand to Batch HxW -> 1xHxWx1\n",
    "        image = np.expand_dims(image, [0, 3])\n",
    "        # Make Prediction\n",
    "        cancer += model.predict_on_batch(image).squeeze() / len(g)\n",
    "        # Remove Image PNG\n",
    "        os.remove(f'{image_id}.png')\n",
    "        \n",
    "    # Add Submission Row\n",
    "    SUBMISSION_ROWS.append({\n",
    "        'prediction_id': f'{patient_id}_{laterality}',\n",
    "        #'cancer': np.int8(cancer > THRESHOLD_BEST),\n",
    "        'cancer': cancer,\n",
    "    })"
   ]
  },
  {
   "cell_type": "code",
   "execution_count": 17,
   "id": "db83df73",
   "metadata": {
    "execution": {
     "iopub.execute_input": "2023-04-10T05:05:58.554091Z",
     "iopub.status.busy": "2023-04-10T05:05:58.553786Z",
     "iopub.status.idle": "2023-04-10T05:05:58.575051Z",
     "shell.execute_reply": "2023-04-10T05:05:58.573809Z"
    },
    "papermill": {
     "duration": 0.032193,
     "end_time": "2023-04-10T05:05:58.577510",
     "exception": false,
     "start_time": "2023-04-10T05:05:58.545317",
     "status": "completed"
    },
    "tags": []
   },
   "outputs": [
    {
     "name": "stdout",
     "output_type": "stream",
     "text": [
      "<class 'pandas.core.frame.DataFrame'>\n",
      "RangeIndex: 2 entries, 0 to 1\n",
      "Data columns (total 2 columns):\n",
      " #   Column         Non-Null Count  Dtype  \n",
      "---  ------         --------------  -----  \n",
      " 0   prediction_id  2 non-null      object \n",
      " 1   cancer         2 non-null      float64\n",
      "dtypes: float64(1), object(1)\n",
      "memory usage: 160.0+ bytes\n"
     ]
    },
    {
     "data": {
      "text/plain": [
       "None"
      ]
     },
     "metadata": {},
     "output_type": "display_data"
    },
    {
     "data": {
      "text/html": [
       "<div>\n",
       "<style scoped>\n",
       "    .dataframe tbody tr th:only-of-type {\n",
       "        vertical-align: middle;\n",
       "    }\n",
       "\n",
       "    .dataframe tbody tr th {\n",
       "        vertical-align: top;\n",
       "    }\n",
       "\n",
       "    .dataframe thead th {\n",
       "        text-align: right;\n",
       "    }\n",
       "</style>\n",
       "<table border=\"1\" class=\"dataframe\">\n",
       "  <thead>\n",
       "    <tr style=\"text-align: right;\">\n",
       "      <th></th>\n",
       "      <th>prediction_id</th>\n",
       "      <th>cancer</th>\n",
       "    </tr>\n",
       "  </thead>\n",
       "  <tbody>\n",
       "    <tr>\n",
       "      <th>0</th>\n",
       "      <td>10008_L</td>\n",
       "      <td>0.003288</td>\n",
       "    </tr>\n",
       "    <tr>\n",
       "      <th>1</th>\n",
       "      <td>10008_R</td>\n",
       "      <td>0.032988</td>\n",
       "    </tr>\n",
       "  </tbody>\n",
       "</table>\n",
       "</div>"
      ],
      "text/plain": [
       "  prediction_id    cancer\n",
       "0       10008_L  0.003288\n",
       "1       10008_R  0.032988"
      ]
     },
     "metadata": {},
     "output_type": "display_data"
    }
   ],
   "source": [
    "# Create DataFrame from submission rows\n",
    "submission_df = pd.DataFrame(SUBMISSION_ROWS)\n",
    "\n",
    "display(submission_df.info())\n",
    "display(submission_df.head())"
   ]
  },
  {
   "cell_type": "code",
   "execution_count": 18,
   "id": "a36e8368",
   "metadata": {
    "execution": {
     "iopub.execute_input": "2023-04-10T05:05:58.594560Z",
     "iopub.status.busy": "2023-04-10T05:05:58.594220Z",
     "iopub.status.idle": "2023-04-10T05:05:58.604312Z",
     "shell.execute_reply": "2023-04-10T05:05:58.603362Z"
    },
    "papermill": {
     "duration": 0.021068,
     "end_time": "2023-04-10T05:05:58.606496",
     "exception": false,
     "start_time": "2023-04-10T05:05:58.585428",
     "status": "completed"
    },
    "tags": []
   },
   "outputs": [],
   "source": [
    "submission_df.to_csv('submission.csv', columns=['prediction_id','cancer'],index=False)"
   ]
  },
  {
   "cell_type": "code",
   "execution_count": 19,
   "id": "5a859ed3",
   "metadata": {
    "execution": {
     "iopub.execute_input": "2023-04-10T05:05:58.622680Z",
     "iopub.status.busy": "2023-04-10T05:05:58.622379Z",
     "iopub.status.idle": "2023-04-10T05:05:58.634008Z",
     "shell.execute_reply": "2023-04-10T05:05:58.632909Z"
    },
    "papermill": {
     "duration": 0.022006,
     "end_time": "2023-04-10T05:05:58.636320",
     "exception": false,
     "start_time": "2023-04-10T05:05:58.614314",
     "status": "completed"
    },
    "tags": []
   },
   "outputs": [
    {
     "data": {
      "text/html": [
       "<div>\n",
       "<style scoped>\n",
       "    .dataframe tbody tr th:only-of-type {\n",
       "        vertical-align: middle;\n",
       "    }\n",
       "\n",
       "    .dataframe tbody tr th {\n",
       "        vertical-align: top;\n",
       "    }\n",
       "\n",
       "    .dataframe thead th {\n",
       "        text-align: right;\n",
       "    }\n",
       "</style>\n",
       "<table border=\"1\" class=\"dataframe\">\n",
       "  <thead>\n",
       "    <tr style=\"text-align: right;\">\n",
       "      <th></th>\n",
       "      <th>prediction_id</th>\n",
       "      <th>cancer</th>\n",
       "    </tr>\n",
       "  </thead>\n",
       "  <tbody>\n",
       "    <tr>\n",
       "      <th>0</th>\n",
       "      <td>10008_L</td>\n",
       "      <td>0.003288</td>\n",
       "    </tr>\n",
       "    <tr>\n",
       "      <th>1</th>\n",
       "      <td>10008_R</td>\n",
       "      <td>0.032988</td>\n",
       "    </tr>\n",
       "  </tbody>\n",
       "</table>\n",
       "</div>"
      ],
      "text/plain": [
       "  prediction_id    cancer\n",
       "0       10008_L  0.003288\n",
       "1       10008_R  0.032988"
      ]
     },
     "metadata": {},
     "output_type": "display_data"
    }
   ],
   "source": [
    "# Sanity Check\n",
    "display(pd.read_csv('submission.csv').head())"
   ]
  },
  {
   "cell_type": "code",
   "execution_count": null,
   "id": "9d4c8434",
   "metadata": {
    "papermill": {
     "duration": 0.007522,
     "end_time": "2023-04-10T05:05:58.651228",
     "exception": false,
     "start_time": "2023-04-10T05:05:58.643706",
     "status": "completed"
    },
    "tags": []
   },
   "outputs": [],
   "source": []
  }
 ],
 "metadata": {
  "kernelspec": {
   "display_name": "Python 3",
   "language": "python",
   "name": "python3"
  },
  "language_info": {
   "codemirror_mode": {
    "name": "ipython",
    "version": 3
   },
   "file_extension": ".py",
   "mimetype": "text/x-python",
   "name": "python",
   "nbconvert_exporter": "python",
   "pygments_lexer": "ipython3",
   "version": "3.7.12"
  },
  "papermill": {
   "default_parameters": {},
   "duration": 69.018139,
   "end_time": "2023-04-10T05:06:01.680364",
   "environment_variables": {},
   "exception": null,
   "input_path": "__notebook__.ipynb",
   "output_path": "__notebook__.ipynb",
   "parameters": {},
   "start_time": "2023-04-10T05:04:52.662225",
   "version": "2.4.0"
  },
  "widgets": {
   "application/vnd.jupyter.widget-state+json": {
    "state": {
     "21d9cf22d8a545719aa82046b0b15166": {
      "model_module": "@jupyter-widgets/controls",
      "model_module_version": "1.5.0",
      "model_name": "HTMLModel",
      "state": {
       "_dom_classes": [],
       "_model_module": "@jupyter-widgets/controls",
       "_model_module_version": "1.5.0",
       "_model_name": "HTMLModel",
       "_view_count": null,
       "_view_module": "@jupyter-widgets/controls",
       "_view_module_version": "1.5.0",
       "_view_name": "HTMLView",
       "description": "",
       "description_tooltip": null,
       "layout": "IPY_MODEL_dc052a38f8bd41e99fb888269ff675fa",
       "placeholder": "​",
       "style": "IPY_MODEL_a5b80e10ea684153b1a6686b9a238052",
       "value": " 2/2 [00:15&lt;00:00, 15.30s/it]"
      }
     },
     "5af2faa9d7a7491ab311bc5c36d118ae": {
      "model_module": "@jupyter-widgets/base",
      "model_module_version": "1.2.0",
      "model_name": "LayoutModel",
      "state": {
       "_model_module": "@jupyter-widgets/base",
       "_model_module_version": "1.2.0",
       "_model_name": "LayoutModel",
       "_view_count": null,
       "_view_module": "@jupyter-widgets/base",
       "_view_module_version": "1.2.0",
       "_view_name": "LayoutView",
       "align_content": null,
       "align_items": null,
       "align_self": null,
       "border": null,
       "bottom": null,
       "display": null,
       "flex": null,
       "flex_flow": null,
       "grid_area": null,
       "grid_auto_columns": null,
       "grid_auto_flow": null,
       "grid_auto_rows": null,
       "grid_column": null,
       "grid_gap": null,
       "grid_row": null,
       "grid_template_areas": null,
       "grid_template_columns": null,
       "grid_template_rows": null,
       "height": null,
       "justify_content": null,
       "justify_items": null,
       "left": null,
       "margin": null,
       "max_height": null,
       "max_width": null,
       "min_height": null,
       "min_width": null,
       "object_fit": null,
       "object_position": null,
       "order": null,
       "overflow": null,
       "overflow_x": null,
       "overflow_y": null,
       "padding": null,
       "right": null,
       "top": null,
       "visibility": null,
       "width": null
      }
     },
     "5b93844a671f43a0b6d8ee23a8379dd0": {
      "model_module": "@jupyter-widgets/controls",
      "model_module_version": "1.5.0",
      "model_name": "HBoxModel",
      "state": {
       "_dom_classes": [],
       "_model_module": "@jupyter-widgets/controls",
       "_model_module_version": "1.5.0",
       "_model_name": "HBoxModel",
       "_view_count": null,
       "_view_module": "@jupyter-widgets/controls",
       "_view_module_version": "1.5.0",
       "_view_name": "HBoxView",
       "box_style": "",
       "children": [
        "IPY_MODEL_bf39cd5da50e484b8cd03b293dcdac43",
        "IPY_MODEL_f95c9e5d03874850ae9d094692225ac5",
        "IPY_MODEL_21d9cf22d8a545719aa82046b0b15166"
       ],
       "layout": "IPY_MODEL_64c472dfb38c4bdc88a4eef53412bb21"
      }
     },
     "64c472dfb38c4bdc88a4eef53412bb21": {
      "model_module": "@jupyter-widgets/base",
      "model_module_version": "1.2.0",
      "model_name": "LayoutModel",
      "state": {
       "_model_module": "@jupyter-widgets/base",
       "_model_module_version": "1.2.0",
       "_model_name": "LayoutModel",
       "_view_count": null,
       "_view_module": "@jupyter-widgets/base",
       "_view_module_version": "1.2.0",
       "_view_name": "LayoutView",
       "align_content": null,
       "align_items": null,
       "align_self": null,
       "border": null,
       "bottom": null,
       "display": null,
       "flex": null,
       "flex_flow": null,
       "grid_area": null,
       "grid_auto_columns": null,
       "grid_auto_flow": null,
       "grid_auto_rows": null,
       "grid_column": null,
       "grid_gap": null,
       "grid_row": null,
       "grid_template_areas": null,
       "grid_template_columns": null,
       "grid_template_rows": null,
       "height": null,
       "justify_content": null,
       "justify_items": null,
       "left": null,
       "margin": null,
       "max_height": null,
       "max_width": null,
       "min_height": null,
       "min_width": null,
       "object_fit": null,
       "object_position": null,
       "order": null,
       "overflow": null,
       "overflow_x": null,
       "overflow_y": null,
       "padding": null,
       "right": null,
       "top": null,
       "visibility": null,
       "width": null
      }
     },
     "7a6621f7bdab484b8a7dbacdb82981cd": {
      "model_module": "@jupyter-widgets/controls",
      "model_module_version": "1.5.0",
      "model_name": "ProgressStyleModel",
      "state": {
       "_model_module": "@jupyter-widgets/controls",
       "_model_module_version": "1.5.0",
       "_model_name": "ProgressStyleModel",
       "_view_count": null,
       "_view_module": "@jupyter-widgets/base",
       "_view_module_version": "1.2.0",
       "_view_name": "StyleView",
       "bar_color": null,
       "description_width": ""
      }
     },
     "a063eedb50224ac78ca20e2b312077a5": {
      "model_module": "@jupyter-widgets/controls",
      "model_module_version": "1.5.0",
      "model_name": "DescriptionStyleModel",
      "state": {
       "_model_module": "@jupyter-widgets/controls",
       "_model_module_version": "1.5.0",
       "_model_name": "DescriptionStyleModel",
       "_view_count": null,
       "_view_module": "@jupyter-widgets/base",
       "_view_module_version": "1.2.0",
       "_view_name": "StyleView",
       "description_width": ""
      }
     },
     "a5b80e10ea684153b1a6686b9a238052": {
      "model_module": "@jupyter-widgets/controls",
      "model_module_version": "1.5.0",
      "model_name": "DescriptionStyleModel",
      "state": {
       "_model_module": "@jupyter-widgets/controls",
       "_model_module_version": "1.5.0",
       "_model_name": "DescriptionStyleModel",
       "_view_count": null,
       "_view_module": "@jupyter-widgets/base",
       "_view_module_version": "1.2.0",
       "_view_name": "StyleView",
       "description_width": ""
      }
     },
     "b2023c0985a54e7f90289f8ce8423b08": {
      "model_module": "@jupyter-widgets/base",
      "model_module_version": "1.2.0",
      "model_name": "LayoutModel",
      "state": {
       "_model_module": "@jupyter-widgets/base",
       "_model_module_version": "1.2.0",
       "_model_name": "LayoutModel",
       "_view_count": null,
       "_view_module": "@jupyter-widgets/base",
       "_view_module_version": "1.2.0",
       "_view_name": "LayoutView",
       "align_content": null,
       "align_items": null,
       "align_self": null,
       "border": null,
       "bottom": null,
       "display": null,
       "flex": null,
       "flex_flow": null,
       "grid_area": null,
       "grid_auto_columns": null,
       "grid_auto_flow": null,
       "grid_auto_rows": null,
       "grid_column": null,
       "grid_gap": null,
       "grid_row": null,
       "grid_template_areas": null,
       "grid_template_columns": null,
       "grid_template_rows": null,
       "height": null,
       "justify_content": null,
       "justify_items": null,
       "left": null,
       "margin": null,
       "max_height": null,
       "max_width": null,
       "min_height": null,
       "min_width": null,
       "object_fit": null,
       "object_position": null,
       "order": null,
       "overflow": null,
       "overflow_x": null,
       "overflow_y": null,
       "padding": null,
       "right": null,
       "top": null,
       "visibility": null,
       "width": null
      }
     },
     "bf39cd5da50e484b8cd03b293dcdac43": {
      "model_module": "@jupyter-widgets/controls",
      "model_module_version": "1.5.0",
      "model_name": "HTMLModel",
      "state": {
       "_dom_classes": [],
       "_model_module": "@jupyter-widgets/controls",
       "_model_module_version": "1.5.0",
       "_model_name": "HTMLModel",
       "_view_count": null,
       "_view_module": "@jupyter-widgets/controls",
       "_view_module_version": "1.5.0",
       "_view_name": "HTMLView",
       "description": "",
       "description_tooltip": null,
       "layout": "IPY_MODEL_5af2faa9d7a7491ab311bc5c36d118ae",
       "placeholder": "​",
       "style": "IPY_MODEL_a063eedb50224ac78ca20e2b312077a5",
       "value": "100%"
      }
     },
     "dc052a38f8bd41e99fb888269ff675fa": {
      "model_module": "@jupyter-widgets/base",
      "model_module_version": "1.2.0",
      "model_name": "LayoutModel",
      "state": {
       "_model_module": "@jupyter-widgets/base",
       "_model_module_version": "1.2.0",
       "_model_name": "LayoutModel",
       "_view_count": null,
       "_view_module": "@jupyter-widgets/base",
       "_view_module_version": "1.2.0",
       "_view_name": "LayoutView",
       "align_content": null,
       "align_items": null,
       "align_self": null,
       "border": null,
       "bottom": null,
       "display": null,
       "flex": null,
       "flex_flow": null,
       "grid_area": null,
       "grid_auto_columns": null,
       "grid_auto_flow": null,
       "grid_auto_rows": null,
       "grid_column": null,
       "grid_gap": null,
       "grid_row": null,
       "grid_template_areas": null,
       "grid_template_columns": null,
       "grid_template_rows": null,
       "height": null,
       "justify_content": null,
       "justify_items": null,
       "left": null,
       "margin": null,
       "max_height": null,
       "max_width": null,
       "min_height": null,
       "min_width": null,
       "object_fit": null,
       "object_position": null,
       "order": null,
       "overflow": null,
       "overflow_x": null,
       "overflow_y": null,
       "padding": null,
       "right": null,
       "top": null,
       "visibility": null,
       "width": null
      }
     },
     "f95c9e5d03874850ae9d094692225ac5": {
      "model_module": "@jupyter-widgets/controls",
      "model_module_version": "1.5.0",
      "model_name": "FloatProgressModel",
      "state": {
       "_dom_classes": [],
       "_model_module": "@jupyter-widgets/controls",
       "_model_module_version": "1.5.0",
       "_model_name": "FloatProgressModel",
       "_view_count": null,
       "_view_module": "@jupyter-widgets/controls",
       "_view_module_version": "1.5.0",
       "_view_name": "ProgressView",
       "bar_style": "success",
       "description": "",
       "description_tooltip": null,
       "layout": "IPY_MODEL_b2023c0985a54e7f90289f8ce8423b08",
       "max": 2.0,
       "min": 0.0,
       "orientation": "horizontal",
       "style": "IPY_MODEL_7a6621f7bdab484b8a7dbacdb82981cd",
       "value": 2.0
      }
     }
    },
    "version_major": 2,
    "version_minor": 0
   }
  }
 },
 "nbformat": 4,
 "nbformat_minor": 5
}
